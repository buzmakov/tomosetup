{
 "cells": [
  {
   "cell_type": "code",
   "execution_count": null,
   "metadata": {
    "collapsed": false
   },
   "outputs": [],
   "source": [
    "%pylab inline"
   ]
  },
  {
   "cell_type": "code",
   "execution_count": null,
   "metadata": {
    "collapsed": false
   },
   "outputs": [],
   "source": [
    "import os\n",
    "import sys\n",
    "import time \n",
    "\n",
    "import numpy as np\n",
    "import pylab as plt \n",
    "import h5py\n",
    "\n",
    "sys.path.insert(0,'..')\n",
    "\n",
    "from motor.motor import MotorsPool\n",
    "from shutter.shutter import Shutter\n",
    "from detector.xiApi import Detector"
   ]
  },
  {
   "cell_type": "code",
   "execution_count": null,
   "metadata": {
    "collapsed": false
   },
   "outputs": [],
   "source": [
    "shutter = Shutter('COM7', 4)\n",
    "print shutter.is_open()\n",
    "shutter.open()\n",
    "print shutter.is_open()\n",
    "time.sleep(0.5)\n",
    "shutter.close()\n",
    "print shutter.is_open()"
   ]
  },
  {
   "cell_type": "code",
   "execution_count": null,
   "metadata": {
    "collapsed": false
   },
   "outputs": [],
   "source": [
    "detector = Detector()\n",
    "detector.enable_cooling()\n",
    "\n",
    "def show_frame(exposure):\n",
    "    shutter.open()\n",
    "    detector.set_exposure(exposure)\n",
    "    res = detector.get_image()\n",
    "    shutter.close()\n",
    "    plt.figure()\n",
    "    plt.imshow(res, cmap=plt.cm.gray)\n",
    "    plt.colorbar(orientation='horizontal');\n",
    "\n",
    "show_frame(1*1000)"
   ]
  },
  {
   "cell_type": "code",
   "execution_count": null,
   "metadata": {
    "collapsed": false
   },
   "outputs": [],
   "source": [
    "motors_pool = MotorsPool()"
   ]
  },
  {
   "cell_type": "code",
   "execution_count": null,
   "metadata": {
    "collapsed": false
   },
   "outputs": [],
   "source": [
    "for motor in motors_pool.motors:\n",
    "    print motor.name, motor.device_id\n",
    "    print motor.get_status()\n",
    "    print motor.get_speed_acceleration()\n",
    "    motor.set_speed_acceleration(500, 500)\n",
    "    print motor.get_speed_acceleration()\n",
    "\n",
    "motor_shift = motors_pool.motors[0]\n",
    "motor_rotate = motors_pool.motors[1]"
   ]
  },
  {
   "cell_type": "code",
   "execution_count": null,
   "metadata": {
    "collapsed": true
   },
   "outputs": [],
   "source": [
    "one_deg_steps = 32300./360\n",
    "empty_shift = -4200"
   ]
  },
  {
   "cell_type": "code",
   "execution_count": null,
   "metadata": {
    "collapsed": false
   },
   "outputs": [],
   "source": [
    "motor_shift.move_to_position(0)\n",
    "print motor_shift.get_status()\n",
    "print motor_shift.get_speed_acceleration()"
   ]
  },
  {
   "cell_type": "code",
   "execution_count": null,
   "metadata": {
    "collapsed": false
   },
   "outputs": [],
   "source": [
    "show_frame(1*1000)"
   ]
  },
  {
   "cell_type": "code",
   "execution_count": null,
   "metadata": {
    "collapsed": false
   },
   "outputs": [],
   "source": [
    "motor_rotate.move_to_position(0)\n",
    "print motor_rotate.get_status()"
   ]
  },
  {
   "cell_type": "code",
   "execution_count": null,
   "metadata": {
    "collapsed": true
   },
   "outputs": [],
   "source": [
    "def get_data_frame(exposure):\n",
    "    shutter.open()\n",
    "    detector.set_exposure(exposure)\n",
    "    res = detector.get_image()\n",
    "    shutter.close()\n",
    "    return res\n",
    "\n",
    "def get_dark_frame(exposure):\n",
    "    detector.set_exposure(exposure)\n",
    "    res = detector.get_image()\n",
    "    shutter.close()\n",
    "    return res"
   ]
  },
  {
   "cell_type": "code",
   "execution_count": null,
   "metadata": {
    "collapsed": false
   },
   "outputs": [],
   "source": [
    "exposure = 10e3\n",
    "empty_frames_count = 10\n",
    "dark_frames_count = 10\n",
    "print exposure\n",
    "data_angles = np.arange(0,181,1)\n",
    "print data_angles"
   ]
  },
  {
   "cell_type": "code",
   "execution_count": null,
   "metadata": {
    "collapsed": false
   },
   "outputs": [],
   "source": [
    "motor_rotate.move_to_position(0)\n",
    "print motor_rotate.get_status()\n",
    "\n",
    "motor_shift.move_to_position(0)\n",
    "print motor_shift.get_status()\n",
    "\n",
    "print 'Starting collecting data' \n",
    "for iangle, angle in enumerate(data_angles):\n",
    "    print angle, \n",
    "    motor_rotate.move_to_position(angle*one_deg_steps)\n",
    "    frame = get_data_frame(exposure)\n",
    "    with h5py.File('test_tomo.h5') as h5f:\n",
    "        frame_name = '/data/{:04d}/data'.format(iangle)\n",
    "        h5f.create_dataset(frame_name, data=frame, compression=\"gzip\", chunks=True)\n",
    "        h5f['/data/{:04d}/motor_rotation_position'.format(iangle)] = motor_rotate.get_position()\n",
    "        h5f['/data/{:04d}/motor_shift_position'.format(iangle)] = motor_shift.get_position()\n",
    "    print \n",
    "    \n",
    "print 'Starting collecting empty'\n",
    "motor_shift.move_to_position(empty_shift)\n",
    "for iangle in  range(empty_frames_count):\n",
    "    print iangle,\n",
    "    frame = get_data_frame(exposure)\n",
    "    with h5py.File('test_tomo.h5') as h5f:\n",
    "        frame_name = '/empty/{:04d}/frame'.format(iangle)\n",
    "        h5f.create_dataset(frame_name, data=frame, compression=\"gzip\", chunks=True)\n",
    "        h5f['/empty/{:04d}/motor_rotation_position'.format(iangle)] = motor_rotate.get_position()\n",
    "        h5f['/empty/{:04d}/motor_shift_position'.format(iangle)] = motor_shift.get_position()\n",
    "    print \n",
    "    \n",
    "print 'Starting collecting dark'\n",
    "for iangle in  range(dark_frames_count):\n",
    "    print iangle,\n",
    "    frame = get_dark_frame(exposure)\n",
    "    with h5py.File('test_tomo.h5') as h5f:\n",
    "        frame_name = '/dark/{:04d}/frame'.format(iangle)\n",
    "        h5f.create_dataset(frame_name, data=frame, compression=\"gzip\", chunks=True)\n",
    "        h5f['/dark/{:04d}/motor_rotation_position'.format(iangle)] = motor_rotate.get_position()\n",
    "        h5f['/dark/{:04d}/motor_shift_position'.format(iangle)] = motor_shift.get_position()\n",
    "    print\n",
    "\n",
    "motor_rotate.move_to_position(0)\n",
    "print motor_rotate.get_status()\n",
    "\n",
    "motor_shift.move_to_position(0)\n",
    "print motor_shift.get_status()"
   ]
  },
  {
   "cell_type": "code",
   "execution_count": null,
   "metadata": {
    "collapsed": false
   },
   "outputs": [],
   "source": [
    "print motor_rotate.get_status()\n",
    "print motor_shift.get_status()"
   ]
  },
  {
   "cell_type": "code",
   "execution_count": null,
   "metadata": {
    "collapsed": true
   },
   "outputs": [],
   "source": [
    "#!rm test_tomo.h5"
   ]
  },
  {
   "cell_type": "code",
   "execution_count": null,
   "metadata": {
    "collapsed": false
   },
   "outputs": [],
   "source": [
    "motor_shift.move_to_position(0)"
   ]
  },
  {
   "cell_type": "code",
   "execution_count": null,
   "metadata": {
    "collapsed": false
   },
   "outputs": [],
   "source": [
    "empty_shift"
   ]
  },
  {
   "cell_type": "code",
   "execution_count": null,
   "metadata": {
    "collapsed": true
   },
   "outputs": [],
   "source": []
  }
 ],
 "metadata": {
  "kernelspec": {
   "display_name": "Python 2",
   "language": "python",
   "name": "python2"
  },
  "language_info": {
   "codemirror_mode": {
    "name": "ipython",
    "version": 2
   },
   "file_extension": ".py",
   "mimetype": "text/x-python",
   "name": "python",
   "nbconvert_exporter": "python",
   "pygments_lexer": "ipython2",
   "version": "2.7.9"
  }
 },
 "nbformat": 4,
 "nbformat_minor": 0
}
